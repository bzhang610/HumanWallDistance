{
 "cells": [
  {
   "cell_type": "code",
   "execution_count": null,
   "metadata": {},
   "outputs": [],
   "source": [
    "import numpy as np\n",
    "import cv2\n",
    "from scipy import stats\n",
    "from matplotlib import pyplot as plt"
   ]
  },
  {
   "cell_type": "markdown",
   "metadata": {},
   "source": [
    "## Load Data"
   ]
  },
  {
   "cell_type": "code",
   "execution_count": null,
   "metadata": {},
   "outputs": [],
   "source": [
    "depth_img = np.loadtxt('human_corridor_2.txt')"
   ]
  },
  {
   "cell_type": "code",
   "execution_count": null,
   "metadata": {
    "scrolled": true
   },
   "outputs": [],
   "source": [
    "plt.imshow(depth_img)"
   ]
  },
  {
   "cell_type": "markdown",
   "metadata": {},
   "source": [
    "## Convert to World Frame Coordinates"
   ]
  },
  {
   "cell_type": "code",
   "execution_count": null,
   "metadata": {},
   "outputs": [],
   "source": [
    "def get_w_coords(img):\n",
    "    '''\n",
    "    Input: depth image \n",
    "    Output: x, y, z coordinates in world frame (each has dimension same as the depth image)\n",
    "    The function extract the approximate world frame coordinates of each pixel in the depth image.\n",
    "    The calculation is based on the assuming the camera is at the origin of the world frame, and \n",
    "    parallel to the walls on the sides. \n",
    "    The camera has 70 degree horizontal field of view, and 50 degree vertical field of view.\n",
    "    '''\n",
    "    H,L = img.shape\n",
    "    theta_step = 50/180*np.pi / H\n",
    "    phi_step = -70/180*np.pi / L\n",
    "    theta_init = 65 /180 * np.pi # 65 to 115 degree\n",
    "    phi_init = 125 / 180 * np.pi # 125 to 55 degree\n",
    "    r = img\n",
    "    theta = np.zeros(r.shape)\n",
    "    phi = np.zeros(r.shape)\n",
    "    for i in range(H):\n",
    "        for j in range(L):\n",
    "            theta[i,j] = theta_init + i * theta_step\n",
    "            phi[i,j] = phi_init + j * phi_step\n",
    "    x = r * np.sin(theta) * np.cos(phi)\n",
    "    y = r * np.sin(theta) * np.sin(phi)\n",
    "    z = r * np.cos(theta)\n",
    "    return x, y, z"
   ]
  },
  {
   "cell_type": "code",
   "execution_count": null,
   "metadata": {},
   "outputs": [],
   "source": [
    "def process_coords(x,y,z,x_limit = 5,y_limit_h = 5,y_limit_l = 2,ground_limit = 0.2):\n",
    "    '''\n",
    "    This function process the coordinates in the world frame so that it discards all points that are too far from\n",
    "    the robot and removes the ground.\n",
    "    '''\n",
    "    H,L = x.shape\n",
    "    # reshape x,y,z for scatter plots\n",
    "    X = x.reshape(L*H)\n",
    "    Y = y.reshape(L*H)\n",
    "    Z = z.reshape(L*H)\n",
    "    \n",
    "    #use the middle bottom pixel as ground height (plus a small number in case of noise)\n",
    "    ground_height = z[H-1,int(L/2)] + ground_limit\n",
    "    \n",
    "    # filter points that are too far and on the ground\n",
    "    x_idx = np.abs(X) < x_limit\n",
    "    y_idx = np.logical_and(Y < y_limit_h,Y > y_limit_l)\n",
    "    z_idx = Z > ground_height\n",
    "    selected = np.logical_and(np.logical_and(x_idx,y_idx),z_idx)\n",
    "    X_s = X[selected]\n",
    "    Y_s = Y[selected]\n",
    "    Z_s = Z[selected]\n",
    "    return X_s, Y_s, Z_s"
   ]
  },
  {
   "cell_type": "code",
   "execution_count": null,
   "metadata": {
    "scrolled": true
   },
   "outputs": [],
   "source": [
    "x,y,z = get_w_coords(depth_img)\n",
    "X,Y,Z = process_coords(x,y,z)\n",
    "plt.scatter(X,Y,2,marker=\"s\")"
   ]
  },
  {
   "cell_type": "markdown",
   "metadata": {},
   "source": [
    "## Bounding Boxes"
   ]
  },
  {
   "cell_type": "code",
   "execution_count": null,
   "metadata": {},
   "outputs": [],
   "source": [
    "def get_bin_img(X1,X2,bin1_s = 200,bin2_s = 200):\n",
    "    range_x1 = max(X1) - min(X1)\n",
    "    range_x2 = max(X2) - min(X2)\n",
    "    step_x1 = range_x1/bin1_s\n",
    "    step_x2 = range_x2/bin2_s\n",
    "    binx1 = np.arange(min(X1),max(X1),step_x1)\n",
    "    binx2 = np.arange(min(X2),max(X2),step_x2)\n",
    "    binary_bin = stats.binned_statistic_2d(X1, X2, None, 'count', bins=[binx1,binx2])\n",
    "    bins = binary_bin.statistic\n",
    "    bins = bins>0\n",
    "    return bins"
   ]
  },
  {
   "cell_type": "code",
   "execution_count": null,
   "metadata": {
    "scrolled": true
   },
   "outputs": [],
   "source": [
    "bin_xy = get_bin_img(-Y,X)\n",
    "bin_xz = get_bin_img(-Z,X)\n",
    "plt.imshow(bin_xy)"
   ]
  },
  {
   "cell_type": "code",
   "execution_count": null,
   "metadata": {},
   "outputs": [],
   "source": [
    "def erode_dilate(mask,e_kernel = 1,d_kernel = 3,e_iter = 1 ,d_iter = 3):\n",
    "    mask = mask.astype('uint8')\n",
    "    kernel_e = np.ones((e_kernel,e_kernel), np.uint8)\n",
    "    kernel_d = np.ones((d_kernel,d_kernel), np.uint8)\n",
    "    img_erosion = cv2.erode(mask, kernel_e, iterations = e_iter) \n",
    "    img_dilation = cv2.dilate(img_erosion, kernel_d, iterations = d_iter)\n",
    "    return img_dilation\n",
    "\n",
    "def contour_boxes(res):\n",
    "    res = res.astype('uint8')\n",
    "    img = cv2.cvtColor(res, cv2.COLOR_GRAY2BGR)\n",
    "    # find contours and get the external one\n",
    "    contours, hier = cv2.findContours(res, cv2.RETR_TREE,\n",
    "                                      cv2.CHAIN_APPROX_SIMPLE)\n",
    "    box_limit = res.shape[0]*res.shape[1]*.01 # only keep bounding boxes with area larger than 1% of the binn image\n",
    "    boxes = []\n",
    "    for c in contours:    \n",
    "        # get the bounding rect\n",
    "        x, y, w, h = cv2.boundingRect(c)\n",
    "        # draw a green rectangle to visualize the bounding rect\n",
    "\n",
    "        if w * h > box_limit:\n",
    "            cv2.rectangle(img, (x, y), (x+w, y+h), (0, 255, 0), 2)\n",
    "            boxes.append(np.array([x,y,x+w,y+h]))\n",
    "    boxes = np.asarray(boxes)\n",
    "    cv2.drawContours(img, contours, -1, (255, 255, 0), 1)\n",
    "    return img,boxes"
   ]
  },
  {
   "cell_type": "code",
   "execution_count": null,
   "metadata": {},
   "outputs": [],
   "source": [
    "def find_y_range(img,boxes):\n",
    "    #bin_xy = get_bin_img(-Y,X,200,100)\n",
    "    #bin_new = erode_dilate(bin_xy,1,2,1,2)\n",
    "    img,boxes = contour_boxes(bin_xy)\n",
    "    x_cent = int(img.shape[1]/2)\n",
    "    cent_dist = np.abs((boxes[:,2]-boxes[:,0])/2+boxes[:,0]-x_cent)\n",
    "    human_idx = np.argmin(cent_dist)\n",
    "    y_human = boxes[human_idx,3]-boxes[human_idx,1]\n",
    "    y_new_range = (int(boxes[human_idx,1]-0.1*y_human),int(boxes[human_idx,3]+0.1*y_human))\n",
    "    return y_new_range\n",
    "    "
   ]
  },
  {
   "cell_type": "code",
   "execution_count": null,
   "metadata": {},
   "outputs": [],
   "source": [
    "def calc_gap(boxes,x_cent):\n",
    "    cent_dist = np.abs((boxes[:,2]-boxes[:,0])/2+boxes[:,0]-x_cent)\n",
    "    human_idx = np.argmin(cent_dist)\n",
    "    left_boxes = boxes[boxes[:,0]<boxes[human_idx,0]]\n",
    "    right_boxes = boxes[boxes[:,0]>boxes[human_idx,0]]\n",
    "    left_max = np.max(left_boxes[:,2])\n",
    "    right_min = np.min(right_boxes[:,0])\n",
    "    gap_left = boxes[human_idx,0] - left_max\n",
    "    gap_right = right_min - boxes[human_idx,2]\n",
    "    if gap_left > gap_right:\n",
    "        result = ['left',gap_left]\n",
    "    else:\n",
    "        result = ['right',gap_right]\n",
    "    return result"
   ]
  },
  {
   "cell_type": "code",
   "execution_count": null,
   "metadata": {},
   "outputs": [],
   "source": [
    "def BB_gap(X,Y,Z,binyz_s = 200,binx_s = 200):\n",
    "    bin_xy = get_bin_img(-Y,X,binyz_s,binx_s)\n",
    "    bin_xz = get_bin_img(-Z,X,binyz_s,binx_s)\n",
    "    bin_smooth = erode_dilate(bin_xy,1,2,1,2)\n",
    "    img,boxes = contour_boxes(bin_smooth)\n",
    "    y_r = find_y_range(img,boxes)\n",
    "    bin_new = bin_smooth[y_r[0]:y_r[1],:]\n",
    "    img_new, boxes_new = contour_boxes(bin_new)\n",
    "    result = calc_gap(boxes,int(img.shape[1]/2))\n",
    "    result[1] = np.round(result[1] * (max(X) - min(X))/binx_s,2)\n",
    "    return result"
   ]
  },
  {
   "cell_type": "code",
   "execution_count": null,
   "metadata": {},
   "outputs": [],
   "source": [
    "print(BB_gap(X,Y,Z))"
   ]
  },
  {
   "cell_type": "markdown",
   "metadata": {},
   "source": [
    "## Total"
   ]
  },
  {
   "cell_type": "code",
   "execution_count": null,
   "metadata": {},
   "outputs": [],
   "source": [
    "def main_func(img_file):\n",
    "    depth_img = np.loadtxt(img_file)\n",
    "    x,y,z = get_w_coords(depth_img)\n",
    "    X,Y,Z = process_coords(x,y,z)\n",
    "    result = BB_gap(X,Y,Z)\n",
    "    plt.imshow(depth_img)\n",
    "    return result"
   ]
  },
  {
   "cell_type": "code",
   "execution_count": null,
   "metadata": {},
   "outputs": [],
   "source": [
    "img_file = 'human_corridor_0.txt'\n",
    "result = main_func(img_file)\n",
    "print(result[0],result[1])\n"
   ]
  },
  {
   "cell_type": "code",
   "execution_count": null,
   "metadata": {},
   "outputs": [],
   "source": [
    "y_r = find_y_range(binn)\n",
    "print(y_r)"
   ]
  },
  {
   "cell_type": "code",
   "execution_count": null,
   "metadata": {},
   "outputs": [],
   "source": [
    "binn = erode_dilate(bin_xy,1,2,1,2)\n",
    "plt.imshow(binn)"
   ]
  },
  {
   "cell_type": "code",
   "execution_count": null,
   "metadata": {},
   "outputs": [],
   "source": [
    "img,boxes = contour_boxes(binn)\n",
    "plt.imshow(img)"
   ]
  },
  {
   "cell_type": "code",
   "execution_count": null,
   "metadata": {},
   "outputs": [],
   "source": []
  },
  {
   "cell_type": "code",
   "execution_count": null,
   "metadata": {},
   "outputs": [],
   "source": [
    "# camera height\n",
    "center_dist = img[131,88]\n",
    "angle = 25/180*np.pi\n",
    "h = np.sin(angle)*center_dist\n",
    "print(h)"
   ]
  },
  {
   "cell_type": "code",
   "execution_count": null,
   "metadata": {},
   "outputs": [],
   "source": [
    "depth_img.shape"
   ]
  },
  {
   "cell_type": "code",
   "execution_count": null,
   "metadata": {},
   "outputs": [],
   "source": [
    "H,L = depth_img.shape"
   ]
  },
  {
   "cell_type": "code",
   "execution_count": null,
   "metadata": {},
   "outputs": [],
   "source": [
    "z[H-1,int(L/2)]"
   ]
  },
  {
   "cell_type": "code",
   "execution_count": null,
   "metadata": {},
   "outputs": [],
   "source": [
    "s_1 = np.logical_and(np.abs(X)<5,np.abs(Y)<5)\n",
    "selected = np.logical_and(np.logical_and(np.abs(X)<5,np.abs(Y)<5),Z>-1)\n",
    "'''\n",
    "X_new = X[s_1]\n",
    "Y_new = Y[s_1]\n",
    "Z_new = Z[s_1]\n",
    "'''\n",
    "\n",
    "X_new = X[selected]\n",
    "Y_new = Y[selected]\n",
    "Z_new = Z[selected]\n"
   ]
  },
  {
   "cell_type": "code",
   "execution_count": null,
   "metadata": {},
   "outputs": [],
   "source": [
    "s_2 = np.logical_and(Y_new>3,Y_new<4)\n",
    "Y_s = Y_new[s_2]\n",
    "X_s = X_new[s_2]\n",
    "Z_s = Z_new[s_2]"
   ]
  },
  {
   "cell_type": "code",
   "execution_count": null,
   "metadata": {},
   "outputs": [],
   "source": []
  },
  {
   "cell_type": "code",
   "execution_count": null,
   "metadata": {},
   "outputs": [],
   "source": [
    "plt.scatter(X_s,Z_s,2,marker=\"s\")"
   ]
  },
  {
   "cell_type": "code",
   "execution_count": null,
   "metadata": {},
   "outputs": [],
   "source": [
    "Z_m = Z_s + 1 \n",
    "X_m = X_s + 1\n",
    "b_l = 280\n",
    "b_h = 200\n",
    "bins = np.zeros([b_h,b_l])\n",
    "range_x = max(X_m) - min(X_m)\n",
    "range_z = max(Z_m) - min(Z_m)\n",
    "step_x = range_x/b_l\n",
    "step_z = range_z/b_h\n",
    "for i in range(X_s.shape[0]):\n",
    "    idx_r = int(Z_m[i]/step_z)\n",
    "    idx_c = int(X_m[i]/step_x)\n",
    "    bins[idx_r,idx_c] = 1\n"
   ]
  },
  {
   "cell_type": "code",
   "execution_count": null,
   "metadata": {},
   "outputs": [],
   "source": [
    "from scipy import stats"
   ]
  },
  {
   "cell_type": "code",
   "execution_count": null,
   "metadata": {},
   "outputs": [],
   "source": [
    "b_l = 280\n",
    "b_h = 200\n",
    "bins = np.zeros([b_h,b_l])\n",
    "range_x = max(X_s) - min(X_s)\n",
    "range_z = max(Z_s) - min(Z_s)\n",
    "step_x = range_x/b_l\n",
    "step_z = range_z/b_h\n",
    "binx = np.arange(min(X_s),max(X_s),step_x)\n",
    "binz = np.arange(min(Z_s),max(Z_s),step_z)\n",
    "binary_bin = stats.binned_statistic_2d(-Z_s, X_s, None, 'count', bins=[binz,binx])\n",
    "binary_bin.statistic\n"
   ]
  },
  {
   "cell_type": "code",
   "execution_count": null,
   "metadata": {},
   "outputs": [],
   "source": [
    "binn = binary_bin.statistic>0"
   ]
  },
  {
   "cell_type": "code",
   "execution_count": null,
   "metadata": {},
   "outputs": [],
   "source": [
    "binn.shape"
   ]
  },
  {
   "cell_type": "code",
   "execution_count": null,
   "metadata": {
    "scrolled": true
   },
   "outputs": [],
   "source": [
    "plt.imshow(binn)"
   ]
  },
  {
   "cell_type": "code",
   "execution_count": null,
   "metadata": {},
   "outputs": [],
   "source": [
    "import cv2 \n",
    "#cv.drawContours(binn, contours, -1, (0,255,0), 3)"
   ]
  },
  {
   "cell_type": "code",
   "execution_count": null,
   "metadata": {},
   "outputs": [],
   "source": [
    "def erode_dilate(mask,e_kernel = 5,d_kernel = 5,e_iter = 1 ,d_iter = 1):\n",
    "    mask = mask.astype('uint8')\n",
    "    kernel_e = np.ones((e_kernel,e_kernel), np.uint8)\n",
    "    kernel_d = np.ones((d_kernel,d_kernel), np.uint8)\n",
    "    img_erosion = cv2.erode(mask, kernel_e, iterations = e_iter) \n",
    "    img_dilation = cv2.dilate(img_erosion, kernel_d, iterations = d_iter)\n",
    "    return img_dilation\n",
    "\n",
    "def contour_boxes(res):\n",
    "    img = cv2.cvtColor(res, cv2.COLOR_GRAY2BGR)\n",
    "    # find contours and get the external one\n",
    "    contours, hier = cv2.findContours(res, cv2.RETR_TREE,\n",
    "                                      cv2.CHAIN_APPROX_SIMPLE)\n",
    "    boxes = []\n",
    "    for c in contours:    \n",
    "        # get the bounding rect\n",
    "        x, y, w, h = cv2.boundingRect(c)\n",
    "        # draw a green rectangle to visualize the bounding rect\n",
    "\n",
    "        if w * h > 300:\n",
    "            cv2.rectangle(img, (x, y), (x+w, y+h), (0, 255, 0), 2)\n",
    "            boxes.append(np.array([x,y,x+w,y+h]))\n",
    "    boxes = np.asarray(boxes)\n",
    "    cv2.drawContours(img, contours, -1, (255, 255, 0), 1)\n",
    "    return img,boxes"
   ]
  },
  {
   "cell_type": "code",
   "execution_count": null,
   "metadata": {},
   "outputs": [],
   "source": [
    "res = erode_dilate(binn.astype('uint8'),1,3,1,2)\n",
    "plt.imshow(res) "
   ]
  },
  {
   "cell_type": "code",
   "execution_count": null,
   "metadata": {},
   "outputs": [],
   "source": [
    "contours = get_contour(binn)"
   ]
  },
  {
   "cell_type": "code",
   "execution_count": null,
   "metadata": {},
   "outputs": [],
   "source": [
    "img.shape"
   ]
  },
  {
   "cell_type": "code",
   "execution_count": null,
   "metadata": {},
   "outputs": [],
   "source": [
    "import cv2\n",
    "import numpy as np \n",
    " \n",
    "# read and scale down image\n",
    "# wget https://bigsnarf.files.wordpress.com/2017/05/hammer.png\n",
    "#img = cv2.pyrDown(cv2.imread('hammer.png', cv2.IMREAD_UNCHANGED))\n",
    "img_o= binn.astype('uint8')\n",
    "img = cv2.cvtColor(res, cv2.COLOR_GRAY2BGR)\n",
    "'''\n",
    "# threshold image\n",
    "ret, threshed_img = cv2.threshold(cv2.cvtColor(img, cv2.COLOR_BGR2GRAY),\n",
    "                127, 255, cv2.THRESH_BINARY)\n",
    "'''\n",
    "# find contours and get the external one\n",
    "contours, hier = cv2.findContours(res, cv2.RETR_TREE,\n",
    "                cv2.CHAIN_APPROX_SIMPLE)\n",
    " \n",
    "# with each contour, draw boundingRect in green\n",
    "# a minAreaRect in red and\n",
    "# a minEnclosingCircle in blue\n",
    "for c in contours:\n",
    "    \n",
    "    # get the bounding rect\n",
    "    x, y, w, h = cv2.boundingRect(c)\n",
    "    # draw a green rectangle to visualize the bounding rect\n",
    "    cv2.rectangle(img, (x, y), (x+w, y+h), (0, 255, 0), 2)\n",
    "'''\n",
    "    # get the min area rect\n",
    "    rect = cv2.minAreaRect(c)\n",
    "    box = cv2.boxPoints(rect)\n",
    "    # convert all coordinates floating point values to int\n",
    "    box = np.int0(box)\n",
    "    # draw a red 'nghien' rectangle\n",
    "    cv2.drawContours(img, [box], 0, (0, 0, 255))\n",
    "\n",
    "    # finally, get the min enclosing circle\n",
    "    (x, y), radius = cv2.minEnclosingCircle(c)\n",
    "    # convert all values to int\n",
    "    center = (int(x), int(y))\n",
    "    radius = int(radius)\n",
    "    # and draw the circle in blue\n",
    "    img = cv2.circle(img, center, radius, (255, 0, 0), 2)\n",
    "''' \n",
    "print(len(contours))\n",
    "cv2.drawContours(img, contours, -1, (255, 255, 0), 1)\n",
    " \n",
    "plt.imshow(img)\n"
   ]
  },
  {
   "cell_type": "code",
   "execution_count": null,
   "metadata": {},
   "outputs": [],
   "source": [
    "def contour_boxes(res):\n",
    "    img = cv2.cvtColor(res, cv2.COLOR_GRAY2BGR)\n",
    "    # find contours and get the external one\n",
    "    contours, hier = cv2.findContours(res, cv2.RETR_TREE,\n",
    "                                      cv2.CHAIN_APPROX_SIMPLE)\n",
    "    boxes = []\n",
    "    for c in contours:    \n",
    "        # get the bounding rect\n",
    "        x, y, w, h = cv2.boundingRect(c)\n",
    "        # draw a green rectangle to visualize the bounding rect\n",
    "\n",
    "        if w * h > 300:\n",
    "            cv2.rectangle(img, (x, y), (x+w, y+h), (0, 255, 0), 2)\n",
    "            boxes.append(np.array([x,y,x+w,y+h]))\n",
    "    boxes = np.asarray(boxes)\n",
    "    cv2.drawContours(img, contours, -1, (255, 255, 0), 1)\n",
    "    return img,boxes"
   ]
  },
  {
   "cell_type": "code",
   "execution_count": null,
   "metadata": {},
   "outputs": [],
   "source": [
    "img,boxes = contour_boxes(res)\n",
    "plt.imshow(img)"
   ]
  },
  {
   "cell_type": "code",
   "execution_count": null,
   "metadata": {},
   "outputs": [],
   "source": [
    "# center of boxes:\n",
    "def dist_from_center(boxes,x_cent,y_cent):\n",
    "    #cent_dist = np.abs((boxes[:,2]-boxes[:,0])/2-x_cent)+np.abs((boxes[:,3]-boxes[:,1])/2-y_cent) \n",
    "    cent_dist = np.abs((boxes[:,2]-boxes[:,0])/2+boxes[:,0]-x_cent)\n",
    "    return cent_dist"
   ]
  },
  {
   "cell_type": "code",
   "execution_count": null,
   "metadata": {},
   "outputs": [],
   "source": []
  },
  {
   "cell_type": "code",
   "execution_count": null,
   "metadata": {},
   "outputs": [],
   "source": [
    "cent_dist = dist_from_center(boxes,140,100)\n",
    "human_idx = np.argmin(cent_dist)\n",
    "left_boxes = boxes[boxes[:,0]<boxes[human_idx,0]]\n",
    "right_boxes = boxes[boxes[:,0]>boxes[human_idx,0]]"
   ]
  },
  {
   "cell_type": "code",
   "execution_count": null,
   "metadata": {},
   "outputs": [],
   "source": [
    "np.max(left_boxes[:,2])\n",
    "np.min(right_boxes[:,0])"
   ]
  },
  {
   "cell_type": "code",
   "execution_count": null,
   "metadata": {},
   "outputs": [],
   "source": [
    "def calc_gap(boxes,x_cent):\n",
    "    cent_dist = np.abs((boxes[:,2]-boxes[:,0])/2+boxes[:,0]-x_cent)\n",
    "    human_idx = np.argmin(cent_dist)\n",
    "    left_boxes = boxes[boxes[:,0]<boxes[human_idx,0]]\n",
    "    right_boxes = boxes[boxes[:,0]>boxes[human_idx,0]]\n",
    "    left_max = np.max(left_boxes[:,2])\n",
    "    right_min = np.min(right_boxes[:,0])\n",
    "    gap_left = boxes[human_idx,0] - left_max\n",
    "    gap_right = right_min - boxes[human_idx,2]\n",
    "    if gap_left > gap_right:\n",
    "        result = ('left',gap_left)\n",
    "    else:\n",
    "        result = ('right',gap_right)\n",
    "    return result"
   ]
  },
  {
   "cell_type": "code",
   "execution_count": null,
   "metadata": {},
   "outputs": [],
   "source": [
    "calc_gap(boxes,140,100)"
   ]
  },
  {
   "cell_type": "code",
   "execution_count": null,
   "metadata": {},
   "outputs": [],
   "source": [
    "np.asarray(boxes).shape"
   ]
  },
  {
   "cell_type": "code",
   "execution_count": null,
   "metadata": {},
   "outputs": [],
   "source": [
    "np.argmin([1,2,3])"
   ]
  },
  {
   "cell_type": "code",
   "execution_count": null,
   "metadata": {},
   "outputs": [],
   "source": [
    "x, y, w, h = cv2.boundingRect(contours[-1])\n"
   ]
  },
  {
   "cell_type": "code",
   "execution_count": null,
   "metadata": {},
   "outputs": [],
   "source": [
    "from mpl_toolkits.mplot3d import Axes3D\n",
    "fig = plt.figure()\n",
    "ax = fig.add_subplot(111, projection='3d')\n",
    "ax.scatter(X_new, Y_new, Z_new,s = 0.5 ,c='r', marker='.')\n",
    "\n",
    "ax.set_xlabel('X Label')\n",
    "ax.set_ylabel('Y Label')\n",
    "ax.set_zlabel('Z Label')\n",
    "\n",
    "plt.show()"
   ]
  }
 ],
 "metadata": {
  "kernelspec": {
   "display_name": "Python 3",
   "language": "python",
   "name": "python3"
  },
  "language_info": {
   "codemirror_mode": {
    "name": "ipython",
    "version": 3
   },
   "file_extension": ".py",
   "mimetype": "text/x-python",
   "name": "python",
   "nbconvert_exporter": "python",
   "pygments_lexer": "ipython3",
   "version": "3.6.5"
  }
 },
 "nbformat": 4,
 "nbformat_minor": 2
}
