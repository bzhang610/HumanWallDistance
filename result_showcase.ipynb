{
 "cells": [
  {
   "cell_type": "markdown",
   "metadata": {},
   "source": [
    "# Human wall distance detection\n",
    "This program finds the distance between a human and the furtherest wall in a corridor using a depth image. The program will also output which side the furtherest wall is on.  \n",
    "\n",
    "## Environment\n",
    "The python script is written with Python 3.6.5 and uses the following libraries.\n",
    "* Numpy 1.15.4  \n",
    "* Opencv 4.0.0    \n",
    "* Scipy 1.2.1    \n",
    "\n",
    "## Files\n",
    "* **[find_clearance.py](utils.py) :** Main executable python script\n",
    "* **[utils.py](utils.py) :** Functions used in the main script\n",
    "* **[result_showcase.ipynb](result_showcase.ipynb) :** Jupyter notebook that showcases the result at each step \n",
    "\n",
    "## Approach\n",
    "The program tackles the clearance detection task using the following steps: \n",
    "1. Reconstruct world frame coordinates from depth image pixels  \n",
    "Using the range of vertical and horizontal field of view data from the camera, assuming each pixel is at the same size and no lens distortion, we can calculate the corresponding coordinates of each pixel represents in the world frame.   \n",
    "We set the camera to be the origin in the world frame, x-axis perpendicular to the walls pointing to the right, y-axis parallel to the wall and pointing away from the camera, z-axis pointing upwards perpendicular to the ground.   \n",
    "We remove points that are too close or too far, and remove the points representing the ground.  \n",
    "\n",
    "\n",
    "2. Get contours of obstacles in the images  \n",
    "Using the x y coordinates, we can reconstruct a sudo bird's eye view from the depth image. Assuming the obstable(human) is a cylindar, the obstacle's y value range in the reconstructed bird's eye view image should be approximately half of the real object. We use this to determine the range of y values used in the xy image to find the contours of the obstacle and walls. \n",
    "\n",
    "\n",
    "3. Calculate the gap size and make decision  \n",
    "Once we have the contours of the obstacle and the walls, we calculate the minimum gap on each side of the obstacle. Finally, the program returns the side with the larger gap and the gap size in meters.\n",
    "\n",
    "## Generalization\n",
    "Corner Cases:\n",
    "* The human is too close to the wall and the program cannot distinguish the contour of the human from the wall  \n",
    "If this is the case, then in the step of finding contours, it is possible for the human bounding box to be the left or right most. The program has already accounted for these cases and should perform correctly.   \n",
    "\n",
    "\n",
    "* The human is partly connected to the wall (e.g. one arm touching the wall but enough space underneath)\n",
    "In this program, when selecting the points for finding contours, there is only a low limit for Z values to remove the ground. If we have the information about the robot's height, we can also set a high limit for Z values that we only need to consider the gap size under such height.  \n",
    "\n",
    "\n",
    "In order to generalize the program, we will look at the assumptions we made in this program: \n",
    "* The robot is at the center of the corridor and parallel to the walls  \n",
    "If the robot is positioned arbitrarily, both location and orientation, we can still calculate the XYZ coordinates from the depth image, but they would be in the camera frame. We then can obtain the world frame coordinates through the pose of the camera wTc in SE(3):  \n",
    "\\begin{equation}\n",
    "wTc = \n",
    "\\begin{bmatrix} \n",
    "R & p \\\\\n",
    "0 & 1 \n",
    "\\end{bmatrix}\n",
    "\\end{equation} \n",
    "where R is the orientation and p = [x,y,z] is the location of the robot in the world frame. Then we can obtain the world frame coordinates for each point in the camera frame through:\n",
    "\n",
    "\\begin{equation}\n",
    "\\begin{bmatrix} \n",
    "x_W\\\\\n",
    "y_W \\\\\n",
    "z_W\\\\\n",
    "1\\\\\n",
    "\\end{bmatrix}\n",
    "=\n",
    "T\n",
    "\\begin{bmatrix} \n",
    "x_B \\\\\n",
    "y_B \\\\\n",
    "z_B\\\\\n",
    "1\\\\\n",
    "\\end{bmatrix}\n",
    "\\end{equation}\n",
    "\n",
    "* Ground is flat  \n",
    "Since the task is detecting human in corridors, if the ground is not flat, we can still assume it is smooth but sloped, we then need to approximate the slope and remove the ground accordingly.  \n",
    "We can also use pretrained network to identify background and floor for more complicated ground removal cases.  \n",
    "\n",
    "\n",
    "* There is only one obstacle  \n",
    "In this program, we assume there is only one human in the depth image and therefore 2 gaps to choose from. This allow us to assume the obstacle has contour closest to the center of the image. When we have multiple obstacles, we need to locate all gaps and the corresponding sizes.  \n",
    "We can also use a different approach to detect human obstacles. Instead of simply setting the bounding box closest to the center as human and others as walls, we can use pretrained CNN networks to identify humans from walls, then calculate the appropriate gaps between humans and walls.  \n"
   ]
  },
  {
   "cell_type": "markdown",
   "metadata": {},
   "source": [
    "# Code"
   ]
  },
  {
   "cell_type": "code",
   "execution_count": 1,
   "metadata": {},
   "outputs": [],
   "source": [
    "import numpy as np\n",
    "import cv2\n",
    "from scipy import stats\n",
    "from matplotlib import pyplot as plt"
   ]
  },
  {
   "cell_type": "markdown",
   "metadata": {},
   "source": [
    "## Load Data"
   ]
  },
  {
   "cell_type": "code",
   "execution_count": 2,
   "metadata": {},
   "outputs": [],
   "source": [
    "depth_img = np.loadtxt('human_corridor_0.txt')"
   ]
  },
  {
   "cell_type": "code",
   "execution_count": 3,
   "metadata": {
    "scrolled": true
   },
   "outputs": [
    {
     "data": {
      "text/plain": [
       "<matplotlib.image.AxesImage at 0x1188f40b8>"
      ]
     },
     "execution_count": 3,
     "metadata": {},
     "output_type": "execute_result"
    },
    {
     "data": {
      "image/png": "[encoded data removed]",
      "text/plain": [
       "<Figure size 432x288 with 1 Axes>"
      ]
     },
     "metadata": {},
     "output_type": "display_data"
    }
   ],
   "source": [
    "plt.imshow(depth_img)"
   ]
  },
  {
   "cell_type": "markdown",
   "metadata": {},
   "source": [
    "## Convert to World Frame Coordinates"
   ]
  },
  {
   "cell_type": "code",
   "execution_count": 4,
   "metadata": {},
   "outputs": [],
   "source": [
    "def get_w_coords(img):\n",
    "    '''\n",
    "    The function extract the approximate world frame coordinates of each pixel in the depth image.\n",
    "    \n",
    "    The calculation is based on the assuming the camera is at the origin of the world frame, and \n",
    "    parallel to the walls on the sides. The camera has 70 degree horizontal field of view, \n",
    "    and 50 degree vertical field of view.\n",
    "    \n",
    "    Input: \n",
    "    img: depth image \n",
    "    \n",
    "    Output: \n",
    "    x, y, z: coordinates in world frame (each has dimension same as the depth image)\n",
    "    '''\n",
    "    H,L = img.shape\n",
    "    theta_step = 50/180*np.pi / H\n",
    "    phi_step = -70/180*np.pi / L\n",
    "    theta_init = 65 /180 * np.pi # 65 to 115 degree\n",
    "    phi_init = 125 / 180 * np.pi # 125 to 55 degree\n",
    "    r = img\n",
    "    theta = np.zeros(r.shape)\n",
    "    phi = np.zeros(r.shape)\n",
    "    for i in range(H):\n",
    "        for j in range(L):\n",
    "            theta[i,j] = theta_init + i * theta_step\n",
    "            phi[i,j] = phi_init + j * phi_step\n",
    "    x = r * np.sin(theta) * np.cos(phi)\n",
    "    y = r * np.sin(theta) * np.sin(phi)\n",
    "    z = r * np.cos(theta)\n",
    "    return x, y, z"
   ]
  },
  {
   "cell_type": "code",
   "execution_count": 5,
   "metadata": {},
   "outputs": [],
   "source": [
    "def process_coords(x,y,z,x_limit = 5,y_limit_h = 5,y_limit_l = 2,ground_limit = 0.2):\n",
    "    '''\n",
    "    This function process the coordinates in the world frame so that it discards all points that are not in our\n",
    "    range of interest and removes the ground.\n",
    "    \n",
    "    Input:\n",
    "    x, y, z: coordinates in world frame\n",
    "    \n",
    "    Keyword arguments:\n",
    "    x_limit: the range of x values accepted (meters)\n",
    "    y_limit_h, y_limit_l: the range of y values accepted (meters)\n",
    "    ground_limit: all points below the limit count as ground\n",
    "    \n",
    "    Output:\n",
    "    X,Y,Z: filtered coordinates in the world frame (flattened shape for easy scatterplot)\n",
    "    '''\n",
    "    H,L = x.shape\n",
    "    # reshape x,y,z for scatter plots\n",
    "    X = x.reshape(L*H)\n",
    "    Y = y.reshape(L*H)\n",
    "    Z = z.reshape(L*H)\n",
    "    \n",
    "    #use the middle bottom pixel as ground height (plus ground limit)\n",
    "    ground_height = z[H-1,int(L/2)] + ground_limit\n",
    "    \n",
    "    # filter points that are too far and on the ground\n",
    "    x_idx = np.abs(X) < x_limit\n",
    "    y_idx = np.logical_and(Y < y_limit_h,Y > y_limit_l)\n",
    "    z_idx = Z > ground_height\n",
    "    selected = np.logical_and(np.logical_and(x_idx,y_idx),z_idx)\n",
    "    \n",
    "    X_s = X[selected]\n",
    "    Y_s = Y[selected]\n",
    "    Z_s = Z[selected]\n",
    "    return X_s, Y_s, Z_s"
   ]
  },
  {
   "cell_type": "code",
   "execution_count": 6,
   "metadata": {
    "scrolled": true
   },
   "outputs": [
    {
     "data": {
      "image/png": "[encoded data removed]",
      "text/plain": [
       "<Figure size 432x288 with 2 Axes>"
      ]
     },
     "metadata": {},
     "output_type": "display_data"
    }
   ],
   "source": [
    "x,y,z = get_w_coords(depth_img)\n",
    "X,Y,Z = process_coords(x,y,z)\n",
    "\n",
    "# Plot Scatter Plots\n",
    "fig, (ax1, ax2) = plt.subplots(1, 2)\n",
    "# front view\n",
    "ax1.scatter(X,Z,1,marker=\"s\")\n",
    "ax1.set_title('Front View')\n",
    "\n",
    "# bird's eye view\n",
    "ax2.scatter(X,Y,1,marker=\"s\")\n",
    "ax2.set_title(\"Bird's Eye View\")\n",
    "\n",
    "plt.show()"
   ]
  },
  {
   "cell_type": "markdown",
   "metadata": {},
   "source": [
    "## Bounding Boxes"
   ]
  },
  {
   "cell_type": "code",
   "execution_count": 7,
   "metadata": {},
   "outputs": [],
   "source": [
    "def get_bin_img(X1,X2,bin1_s = 200,bin2_s = 200):\n",
    "    '''\n",
    "    This function produce a binary image based on the binned values from x1 x2 values\n",
    "    \n",
    "    Input:\n",
    "    X1: x1 axis's coordinates of points   \n",
    "    X2: x2 axis's coordinates of points   \n",
    "    \n",
    "    Keyword arguments:\n",
    "    bin1_s: number of bins for x1 values\n",
    "    bin2_s: number of bins for x2 values\n",
    "    \n",
    "    Output:\n",
    "    bins: binned image \n",
    "    '''\n",
    "    # get binned values\n",
    "    binary_bin = stats.binned_statistic_2d(X1, X2, None, 'count', bins=[bin1_s,bin2_s])\n",
    "    bins = binary_bin.statistic\n",
    "    # if the bin is occupied, set value to 1, else 0\n",
    "    bins = bins>0\n",
    "    return bins"
   ]
  },
  {
   "cell_type": "code",
   "execution_count": 8,
   "metadata": {
    "scrolled": true
   },
   "outputs": [
    {
     "data": {
      "image/png": "[encoded data removed]",
      "text/plain": [
       "<Figure size 432x288 with 2 Axes>"
      ]
     },
     "metadata": {},
     "output_type": "display_data"
    }
   ],
   "source": [
    "bin_xy = get_bin_img(-Y,X)\n",
    "bin_xz = get_bin_img(-Z,X)\n",
    "\n",
    "# Plot Binned images\n",
    "fig, (ax1, ax2) = plt.subplots(1, 2)\n",
    "# front view\n",
    "ax1.imshow(bin_xz)\n",
    "ax1.set_title('Front View')\n",
    "\n",
    "# bird's eye view\n",
    "ax2.imshow(bin_xy)\n",
    "ax2.set_title(\"Bird's Eye View\")\n",
    "\n",
    "plt.show()"
   ]
  },
  {
   "cell_type": "code",
   "execution_count": 9,
   "metadata": {},
   "outputs": [],
   "source": [
    "def erode_dilate(mask,e_kernel = 1,d_kernel = 3,e_iter = 1 ,d_iter = 3):\n",
    "    '''\n",
    "    The function takes an image and return a denoised and filled version (denoise fist, then fill in small gaps)\n",
    "    \n",
    "    Input:\n",
    "    mask: input image\n",
    "    \n",
    "    Keyword arguments:\n",
    "    e_kernel: size of kernel for erosion\n",
    "    d_kernel: size of kernel for dilation\n",
    "    e_iter: # of iterations for erosion\n",
    "    d_iter: # of iterations for dilation\n",
    "    \n",
    "    Output:\n",
    "    img_dilation: processed image\n",
    "    '''\n",
    "    # set image type to use in cv2\n",
    "    mask = mask.astype('uint8')\n",
    "    \n",
    "    # initialize kernels\n",
    "    kernel_e = np.ones((e_kernel,e_kernel), np.uint8)\n",
    "    kernel_d = np.ones((d_kernel,d_kernel), np.uint8)\n",
    "    # denoise\n",
    "    img_erosion = cv2.erode(mask, kernel_e, iterations = e_iter) \n",
    "    # fill in small gaps\n",
    "    img_dilation = cv2.dilate(img_erosion, kernel_d, iterations = d_iter)\n",
    "    return img_dilation\n",
    "\n",
    "def contour_boxes(res):\n",
    "    '''\n",
    "    This function produces bounding boxes from a binary image\n",
    "    \n",
    "    Input:\n",
    "    res: input image (binary)\n",
    "    \n",
    "    Output:\n",
    "    img: input image marked with bounding boxes\n",
    "    boxes: coordinates of bounding boxes \n",
    "    '''\n",
    "    # set image type to use in cv2\n",
    "    res = res.astype('uint8')\n",
    "    \n",
    "    # convert binary to RGB image\n",
    "    img = cv2.cvtColor(res, cv2.COLOR_GRAY2BGR)\n",
    "    \n",
    "    # find contours \n",
    "    contours, hier = cv2.findContours(res, cv2.RETR_TREE, cv2.CHAIN_APPROX_SIMPLE)\n",
    "    \n",
    "    # only keep bounding boxes with area larger than 1% of the orignial image size\n",
    "    box_limit = res.shape[0]*res.shape[1]*.01 \n",
    "    boxes = []\n",
    "    for c in contours:    \n",
    "        # get the bounding rectangles\n",
    "        x, y, w, h = cv2.boundingRect(c)\n",
    "        # store and draw bounding box if it's larger than set threshold\n",
    "        if w * h > box_limit:\n",
    "            # draw a green rectangle to visualize the bounding rectangles\n",
    "            cv2.rectangle(img, (x, y), (x+w, y+h), (0, 255, 0), 2)\n",
    "            boxes.append(np.array([x,y,x+w,y+h]))\n",
    "            \n",
    "    # stack the boxes into an array\n",
    "    boxes = np.asarray(boxes)\n",
    "    \n",
    "    # draw contours on the image\n",
    "    cv2.drawContours(img, contours, -1, (255, 255, 0), 1)\n",
    "    \n",
    "    return img,boxes"
   ]
  },
  {
   "cell_type": "code",
   "execution_count": 10,
   "metadata": {},
   "outputs": [
    {
     "data": {
      "image/png": "[encoded data removed]",
      "text/plain": [
       "<Figure size 432x288 with 2 Axes>"
      ]
     },
     "metadata": {},
     "output_type": "display_data"
    }
   ],
   "source": [
    "bin_smooth_xz = erode_dilate(bin_xz,1,2,1,2)\n",
    "img_xz,boxes_xz = contour_boxes(bin_smooth_xz)\n",
    "bin_smooth_xy = erode_dilate(bin_xy,1,2,1,2)\n",
    "img_xy,boxes_xy = contour_boxes(bin_smooth_xy)\n",
    "\n",
    "# Plot images with bounding boxes\n",
    "fig, (ax1, ax2) = plt.subplots(1, 2)\n",
    "# front view\n",
    "ax1.imshow(img_xz)\n",
    "ax1.set_title('Front View')\n",
    "\n",
    "# bird's eye view\n",
    "ax2.imshow(img_xy)\n",
    "ax2.set_title(\"Bird's Eye View\")\n",
    "\n",
    "plt.show()"
   ]
  },
  {
   "cell_type": "code",
   "execution_count": 11,
   "metadata": {},
   "outputs": [],
   "source": [
    "def find_y_range(boxes,x_cent):\n",
    "    '''\n",
    "    This function determines the approximate y range of the human obstacle\n",
    "    \n",
    "    Input:\n",
    "    img: input bird's eye view image \n",
    "    boxes: bounding boxes in the image\n",
    "    \n",
    "    Output:\n",
    "    y_new_range: tuple (ymin, ymax) y range we are inte\n",
    "    '''\n",
    "    # bounding boxes' distances from the center in x-direction \n",
    "    cent_dist = np.abs((boxes[:,2]-boxes[:,0])/2+boxes[:,0]-x_cent)\n",
    "    # assume human obstacle is the one closest to the center\n",
    "    human_idx = np.argmin(cent_dist)\n",
    "    # get the range of y_values for the obstacle\n",
    "    y_human = boxes[human_idx,3]-boxes[human_idx,1]\n",
    "    # Approximate the human obstacle y_value range to be twice the perceived one (assume obstacle to be a cylindar)\n",
    "    y_new_range = (int(boxes[human_idx,1]-0.1*y_human),int(boxes[human_idx,3]*2+0.1*y_human))\n",
    "    return y_new_range\n",
    "    "
   ]
  },
  {
   "cell_type": "code",
   "execution_count": 12,
   "metadata": {},
   "outputs": [],
   "source": [
    "def calc_gap(boxes,x_cent):\n",
    "    '''\n",
    "    The function determines which side of the obstacle has bigger gap and also return the gap value in bin counts\n",
    "    \n",
    "    '''\n",
    "    # bounding boxes' distances from the center in x-direction \n",
    "    cent_dist = np.abs((boxes[:,2]-boxes[:,0])/2+boxes[:,0]-x_cent)\n",
    "    # assume human obstacle is the one closest to the center\n",
    "    human_idx = np.argmin(cent_dist)\n",
    "    # boxes that are on the left side of the obstacle\n",
    "    left_boxes = boxes[boxes[:,0]<boxes[human_idx,0]]\n",
    "    # boxes that are on the right side of the obstacle\n",
    "    right_boxes = boxes[boxes[:,0]>boxes[human_idx,0]]\n",
    "    \n",
    "    # if there is no box on the left\n",
    "    if left_boxes.size == 0:\n",
    "        right_min = np.min(right_boxes[:,0])\n",
    "        gap_right = right_min - boxes[human_idx,2]\n",
    "        result = ['right',gap_right]\n",
    "    \n",
    "    # if there is no box on the right\n",
    "    elif right_boxes.size == 0:\n",
    "        left_max = np.max(left_boxes[:,2])\n",
    "        gap_left = boxes[human_idx,0] - left_max\n",
    "        result = ['left',gap_left]\n",
    "    \n",
    "    # general case\n",
    "    else:\n",
    "        # calculate the gap size on each side\n",
    "        left_max = np.max(left_boxes[:,2])\n",
    "        gap_left = boxes[human_idx,0] - left_max\n",
    "        right_min = np.min(right_boxes[:,0])\n",
    "        gap_right = right_min - boxes[human_idx,2]\n",
    "    \n",
    "        # store results \n",
    "        if gap_left > gap_right:\n",
    "            result = ['left',gap_left]\n",
    "        else:\n",
    "            result = ['right',gap_right]\n",
    "    return result"
   ]
  },
  {
   "cell_type": "code",
   "execution_count": 13,
   "metadata": {},
   "outputs": [],
   "source": [
    "def BB_gap(X,Y,Z,binyz_s = 200,binx_s = 200):\n",
    "    '''\n",
    "    This function uses the coordinates in the world frame to determine the side with bigger gap and return the gap\n",
    "    size in meters\n",
    "    \n",
    "    Input:\n",
    "    X,Y,Z: world frame coordinates\n",
    "    \n",
    "    Keyword arguments: \n",
    "    binyz_s: # of bins in y or z direction\n",
    "    binx_s: # of bins in x direction\n",
    "    \n",
    "    Output:\n",
    "    result: a list shows the side ('left or right') with bigger gap and the gap size(meters)\n",
    "    '''\n",
    "    \n",
    "    # First, find the y range of interest\n",
    "    bin_xy = get_bin_img(-Y,X,binyz_s,binx_s) # get the bird's eye view binned image \n",
    "    # get the bounding boxes\n",
    "    bin_smooth = erode_dilate(bin_xy,1,2,1,2)\n",
    "    img,boxes = contour_boxes(bin_smooth)\n",
    "    x_cent = int(img.shape[1]/2) # center on the x-axis\n",
    "    # find the y_range of interest\n",
    "    y_r = find_y_range(boxes,x_cent)\n",
    "    \n",
    "    # Calulate the gap based on the new image\n",
    "    bin_new = bin_smooth[y_r[0]:y_r[1],:] # get the new binned image based on the y range\n",
    "    img_new, boxes_new = contour_boxes(bin_new) # get the corresponding bounding boxes and image\n",
    "    \n",
    "    # Choose the side with bigger gap and return the gap size\n",
    "    result = calc_gap(boxes,x_cent)\n",
    "    result[1] = np.round(result[1] * (max(X) - min(X))/binx_s,2) #convert the gap size to meters\n",
    "    return result"
   ]
  },
  {
   "cell_type": "code",
   "execution_count": 14,
   "metadata": {},
   "outputs": [
    {
     "name": "stdout",
     "output_type": "stream",
     "text": [
      "['left', 0.71]\n"
     ]
    }
   ],
   "source": [
    "print(BB_gap(X,Y,Z))"
   ]
  },
  {
   "cell_type": "markdown",
   "metadata": {},
   "source": [
    "## Show result"
   ]
  },
  {
   "cell_type": "code",
   "execution_count": 15,
   "metadata": {},
   "outputs": [],
   "source": [
    "def show_result(img_file):\n",
    "    '''\n",
    "    This function takes the input depth image txt file and returns the gap side and size\n",
    "    '''\n",
    "    depth_img = np.loadtxt(img_file)\n",
    "    x,y,z = get_w_coords(depth_img)\n",
    "    X,Y,Z = process_coords(x,y,z)\n",
    "    result = BB_gap(X,Y,Z)\n",
    "    #plt.imshow(depth_img)\n",
    "    return result"
   ]
  },
  {
   "cell_type": "code",
   "execution_count": 16,
   "metadata": {},
   "outputs": [
    {
     "name": "stdout",
     "output_type": "stream",
     "text": [
      "left 0.71\n"
     ]
    }
   ],
   "source": [
    "img_file = 'human_corridor_0.txt'\n",
    "result = show_result(img_file)\n",
    "print(result[0],result[1])"
   ]
  }
 ],
 "metadata": {
  "kernelspec": {
   "display_name": "Python 3",
   "language": "python",
   "name": "python3"
  },
  "language_info": {
   "codemirror_mode": {
    "name": "ipython",
    "version": 3
   },
   "file_extension": ".py",
   "mimetype": "text/x-python",
   "name": "python",
   "nbconvert_exporter": "python",
   "pygments_lexer": "ipython3",
   "version": "3.6.5"
  }
 },
 "nbformat": 4,
 "nbformat_minor": 2
}
